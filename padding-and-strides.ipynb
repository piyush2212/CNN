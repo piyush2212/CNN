{
  "cells": [
    {
      "cell_type": "code",
      "execution_count": 2,
      "id": "49dab7e8",
      "metadata": {
        "execution": {
          "iopub.execute_input": "2023-08-18T19:43:14.385177Z",
          "iopub.status.busy": "2023-08-18T19:43:14.384720Z",
          "iopub.status.idle": "2023-08-18T19:43:16.173429Z",
          "shell.execute_reply": "2023-08-18T19:43:16.172321Z"
        },
        "origin_pos": 3,
        "tab": [
          "pytorch"
        ],
        "id": "49dab7e8"
      },
      "outputs": [],
      "source": [
        "import torch\n",
        "from torch import nn"
      ]
    },
    {
      "cell_type": "code",
      "execution_count": 3,
      "id": "b5e8917d",
      "metadata": {
        "execution": {
          "iopub.execute_input": "2023-08-18T19:43:16.177580Z",
          "iopub.status.busy": "2023-08-18T19:43:16.176879Z",
          "iopub.status.idle": "2023-08-18T19:43:16.211812Z",
          "shell.execute_reply": "2023-08-18T19:43:16.210995Z"
        },
        "origin_pos": 8,
        "tab": [
          "pytorch"
        ],
        "id": "b5e8917d",
        "outputId": "aa75ec61-0715-41c2-df5b-6fe3be223a36",
        "colab": {
          "base_uri": "https://localhost:8080/"
        }
      },
      "outputs": [
        {
          "output_type": "execute_result",
          "data": {
            "text/plain": [
              "torch.Size([8, 8])"
            ]
          },
          "metadata": {},
          "execution_count": 3
        }
      ],
      "source": [
        "\n",
        "def comp_conv2d(conv2d, X):\n",
        "\n",
        "    X = X.reshape((1, 1) + X.shape)\n",
        "    Y = conv2d(X)\n",
        "    return Y.reshape(Y.shape[2:])\n",
        "\n",
        "conv2d = nn.LazyConv2d(1, kernel_size=3, padding=1)\n",
        "X = torch.rand(size=(8, 8))\n",
        "comp_conv2d(conv2d, X).shape"
      ]
    },
    {
      "cell_type": "code",
      "execution_count": 4,
      "id": "1aa91aee",
      "metadata": {
        "execution": {
          "iopub.execute_input": "2023-08-18T19:43:16.215455Z",
          "iopub.status.busy": "2023-08-18T19:43:16.214828Z",
          "iopub.status.idle": "2023-08-18T19:43:16.221907Z",
          "shell.execute_reply": "2023-08-18T19:43:16.221110Z"
        },
        "origin_pos": 13,
        "tab": [
          "pytorch"
        ],
        "id": "1aa91aee",
        "outputId": "091f697d-fe76-465b-f9e0-75238c563f37",
        "colab": {
          "base_uri": "https://localhost:8080/"
        }
      },
      "outputs": [
        {
          "output_type": "execute_result",
          "data": {
            "text/plain": [
              "torch.Size([8, 8])"
            ]
          },
          "metadata": {},
          "execution_count": 4
        }
      ],
      "source": [
        "conv2d = nn.LazyConv2d(1, kernel_size=(5, 3), padding=(2, 1))\n",
        "comp_conv2d(conv2d, X).shape"
      ]
    },
    {
      "cell_type": "code",
      "execution_count": null,
      "id": "530a0750",
      "metadata": {
        "execution": {
          "iopub.execute_input": "2023-08-18T19:43:16.235915Z",
          "iopub.status.busy": "2023-08-18T19:43:16.235234Z",
          "iopub.status.idle": "2023-08-18T19:43:16.243134Z",
          "shell.execute_reply": "2023-08-18T19:43:16.242281Z"
        },
        "origin_pos": 23,
        "tab": [
          "pytorch"
        ],
        "id": "530a0750",
        "outputId": "bb36accd-234f-44ea-b9b3-5c068b3e7c83"
      },
      "outputs": [
        {
          "data": {
            "text/plain": [
              "torch.Size([2, 2])"
            ]
          },
          "execution_count": 5,
          "metadata": {},
          "output_type": "execute_result"
        }
      ],
      "source": [
        "conv2d = nn.LazyConv2d(1, kernel_size=(3, 5), padding=(0, 1), stride=(3, 4))\n",
        "comp_conv2d(conv2d, X).shape"
      ]
    }
  ],
  "metadata": {
    "kernelspec": {
      "display_name": "Python 3",
      "name": "python3"
    },
    "language_info": {
      "name": "python"
    },
    "required_libs": [],
    "colab": {
      "provenance": []
    }
  },
  "nbformat": 4,
  "nbformat_minor": 5
}